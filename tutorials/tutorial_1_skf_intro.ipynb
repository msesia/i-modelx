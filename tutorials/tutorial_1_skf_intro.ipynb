{
 "cells": [
  {
   "cell_type": "markdown",
   "id": "954cefce",
   "metadata": {},
   "source": [
    "# Tutorial 1:  Basic Usage of the Selective Knockoff Filter\n",
    "\n",
    "This tutorial demonstrates a basic usage example of the Selective Knockoff Filter (SKF) to test for interactions with binary covariates."
   ]
  },
  {
   "cell_type": "code",
   "execution_count": 1,
   "id": "7a4be108",
   "metadata": {},
   "outputs": [],
   "source": [
    "set.seed(2022)"
   ]
  },
  {
   "cell_type": "markdown",
   "id": "feed9428",
   "metadata": {},
   "source": [
    "## Load a toy example data set"
   ]
  },
  {
   "cell_type": "code",
   "execution_count": 2,
   "id": "8a47d56f",
   "metadata": {},
   "outputs": [
    {
     "name": "stdout",
     "output_type": "stream",
     "text": [
      "This data set contains 2000 observations of 20 binary explanatory variables and 80 covariates.\n"
     ]
    }
   ],
   "source": [
    "suppressMessages(library(tidyverse))\n",
    "source(\"../i-modelx/skf.R\")\n",
    "\n",
    "# Load the simulated data set\n",
    "ifile <- \"data/data_n2000_p100_a400-0_i2_delta5_linear_glmnet_b1.txt\"\n",
    "data <- read_delim(ifile, delim=\" \", col_types=cols())\n",
    "X <- select(data, starts_with(\"X_\")) %>% data.matrix()\n",
    "Y <- select(data, starts_with(\"Y\")) %>% data.matrix() %>% as.numeric()\n",
    "Z <- select(data, starts_with(\"Z_\")) %>% data.matrix()\n",
    "\n",
    "# Load the knockoff variables\n",
    "ifile <- \"data/knockoffs_n2000_p100_a400-0_i2_delta5_linear_glmnet_b1.txt\"\n",
    "Xk <- read_delim(ifile, delim=\" \", col_types=cols()) %>% select(starts_with(\"Xk\")) %>% data.matrix()\n",
    "\n",
    "# Load the ground-truth individual treatment effects\n",
    "ifile <- \"data/ite_n2000_p100_a400-0_i2_delta5_linear_glmnet_b1.txt\"\n",
    "ite.data <- read_delim(ifile, delim=\" \", col_types=cols()) %>% data.matrix()\n",
    "ite <- ite.data\n",
    "\n",
    "# Print basic information about the data\n",
    "cat(sprintf(\"This data set contains %d observations of %d binary explanatory variables and %d covariates.\\n\", length(Y), ncol(X), ncol(Z)))"
   ]
  },
  {
   "cell_type": "code",
   "execution_count": 3,
   "id": "9db03815",
   "metadata": {},
   "outputs": [
    {
     "data": {
      "image/png": "[encoded data removed]",
      "text/plain": [
       "Plot with title “Histogram of Y”"
      ]
     },
     "metadata": {
      "image/png": {
       "height": 420,
       "width": 420
      }
     },
     "output_type": "display_data"
    }
   ],
   "source": [
    "hist(Y)"
   ]
  },
  {
   "cell_type": "markdown",
   "id": "180727a7",
   "metadata": {},
   "source": [
    "## Apply the Selective Knockoff Filter\n",
    "\n",
    "To apply the selective knockoff filter to test for interactions, we begin by specifying which covariates are allowed to interact with the explanatory variables.\n",
    "In this example, we consider only interactions between the explanatory variables and the binary covariates."
   ]
  },
  {
   "cell_type": "code",
   "execution_count": 4,
   "id": "73086660",
   "metadata": {},
   "outputs": [],
   "source": [
    "# The first 60 covariates are continuous\n",
    "Z.noint <- Z[,1:60]\n",
    "\n",
    "# The remaining 20 covariates are discrete\n",
    "Z.int <- Z[,61:ncol(Z)]"
   ]
  },
  {
   "cell_type": "markdown",
   "id": "b4dc4f0d",
   "metadata": {},
   "source": [
    "Below, we apply the SKF at the nominal 10\\% FDR level to detect and test up to 2 different interactions per variable."
   ]
  },
  {
   "cell_type": "code",
   "execution_count": 5,
   "id": "4e07f6b9",
   "metadata": {},
   "outputs": [
    {
     "name": "stderr",
     "output_type": "stream",
     "text": [
      "\u001b[1m\u001b[22m`summarise()` has grouped output by 'variable', 'covariate'. You can override\n",
      "using the `.groups` argument.\n"
     ]
    }
   ],
   "source": [
    "res.skf <- skf_analysis(Y, X, Xk, Z.noint, Z.int, ite=ite, family = \"gaussian\", fdr.nominal=0.1, fdr.offset=1,\n",
    "                        naive=FALSE, split=FALSE, vanilla=FALSE, cross.prior=TRUE, num.int=2, verbose=FALSE)"
   ]
  },
  {
   "cell_type": "markdown",
   "id": "170a65ba",
   "metadata": {},
   "source": [
    "## Evaluate the discoveries\n",
    "\n",
    "Using our knowledge of the ground-truth individual treatment effects, we can measure the performance of the SKF in terms of power, false discovery proportion (FDP), and homogeneity of the tested hypotheses."
   ]
  },
  {
   "cell_type": "code",
   "execution_count": 6,
   "id": "ce03843b",
   "metadata": {},
   "outputs": [
    {
     "data": {
      "text/html": [
       "<table class=\"dataframe\">\n",
       "<caption>A tibble: 1 × 7</caption>\n",
       "<thead>\n",
       "\t<tr><th scope=col>Offset</th><th scope=col>FDP</th><th scope=col>Causal.prop</th><th scope=col>Beta.sd</th><th scope=col>Power</th><th scope=col>True</th><th scope=col>Discoveries</th></tr>\n",
       "\t<tr><th scope=col>&lt;fct&gt;</th><th scope=col>&lt;dbl&gt;</th><th scope=col>&lt;dbl&gt;</th><th scope=col>&lt;dbl&gt;</th><th scope=col>&lt;dbl&gt;</th><th scope=col>&lt;dbl&gt;</th><th scope=col>&lt;dbl&gt;</th></tr>\n",
       "</thead>\n",
       "<tbody>\n",
       "\t<tr><td>1</td><td>0.09090909</td><td>0.9090909</td><td>0</td><td>1</td><td>10</td><td>11</td></tr>\n",
       "</tbody>\n",
       "</table>\n"
      ],
      "text/latex": [
       "A tibble: 1 × 7\n",
       "\\begin{tabular}{lllllll}\n",
       " Offset & FDP & Causal.prop & Beta.sd & Power & True & Discoveries\\\\\n",
       " <fct> & <dbl> & <dbl> & <dbl> & <dbl> & <dbl> & <dbl>\\\\\n",
       "\\hline\n",
       "\t 1 & 0.09090909 & 0.9090909 & 0 & 1 & 10 & 11\\\\\n",
       "\\end{tabular}\n"
      ],
      "text/markdown": [
       "\n",
       "A tibble: 1 × 7\n",
       "\n",
       "| Offset &lt;fct&gt; | FDP &lt;dbl&gt; | Causal.prop &lt;dbl&gt; | Beta.sd &lt;dbl&gt; | Power &lt;dbl&gt; | True &lt;dbl&gt; | Discoveries &lt;dbl&gt; |\n",
       "|---|---|---|---|---|---|---|\n",
       "| 1 | 0.09090909 | 0.9090909 | 0 | 1 | 10 | 11 |\n",
       "\n"
      ],
      "text/plain": [
       "  Offset FDP        Causal.prop Beta.sd Power True Discoveries\n",
       "1 1      0.09090909 0.9090909   0       1     10   11         "
      ]
     },
     "metadata": {},
     "output_type": "display_data"
    }
   ],
   "source": [
    "discoveries.skf <- res.skf$discoveries\n",
    "hypotheses.skf <- res.skf$hypotheses\n",
    "evaluate_results(discoveries.skf, hypotheses.skf)"
   ]
  },
  {
   "cell_type": "markdown",
   "id": "b301ecfb",
   "metadata": {},
   "source": [
    "The full list of discoveries reported by the SKF is:"
   ]
  },
  {
   "cell_type": "code",
   "execution_count": 7,
   "id": "3d759afc",
   "metadata": {
    "scrolled": true
   },
   "outputs": [
    {
     "data": {
      "text/html": [
       "<table class=\"dataframe\">\n",
       "<caption>A tibble: 11 × 5</caption>\n",
       "<thead>\n",
       "\t<tr><th scope=col>Offset</th><th scope=col>Variable</th><th scope=col>Partition</th><th scope=col>W</th><th scope=col>Label</th></tr>\n",
       "\t<tr><th scope=col>&lt;dbl&gt;</th><th scope=col>&lt;int&gt;</th><th scope=col>&lt;int&gt;</th><th scope=col>&lt;dbl&gt;</th><th scope=col>&lt;chr&gt;</th></tr>\n",
       "</thead>\n",
       "<tbody>\n",
       "\t<tr><td>1</td><td> 1</td><td>4</td><td>1.8782197</td><td>Z_61 : 1;  Z_68 : 1</td></tr>\n",
       "\t<tr><td>1</td><td> 2</td><td>4</td><td>1.6765810</td><td>Z_63 : 1;  Z_79 : 1</td></tr>\n",
       "\t<tr><td>1</td><td> 3</td><td>4</td><td>1.7194466</td><td>Z_71 : 1;  Z_61 : 1</td></tr>\n",
       "\t<tr><td>1</td><td> 4</td><td>4</td><td>1.2458230</td><td>Z_74 : 1;  Z_66 : 1</td></tr>\n",
       "\t<tr><td>1</td><td> 7</td><td>4</td><td>1.5211617</td><td>Z_77 : 1;  Z_63 : 1</td></tr>\n",
       "\t<tr><td>1</td><td>11</td><td>4</td><td>1.6683667</td><td>Z_69 : 1;  Z_77 : 1</td></tr>\n",
       "\t<tr><td>1</td><td>13</td><td>4</td><td>1.4680500</td><td>Z_78 : 1;  Z_75 : 1</td></tr>\n",
       "\t<tr><td>1</td><td>13</td><td>2</td><td>0.2852935</td><td>Z_78 : 0;  Z_75 : 1</td></tr>\n",
       "\t<tr><td>1</td><td>14</td><td>4</td><td>1.1919779</td><td>Z_67 : 1;  Z_75 : 1</td></tr>\n",
       "\t<tr><td>1</td><td>17</td><td>4</td><td>1.6822991</td><td>Z_64 : 1;  Z_62 : 1</td></tr>\n",
       "\t<tr><td>1</td><td>19</td><td>4</td><td>1.4316400</td><td>Z_72 : 1;  Z_67 : 1</td></tr>\n",
       "</tbody>\n",
       "</table>\n"
      ],
      "text/latex": [
       "A tibble: 11 × 5\n",
       "\\begin{tabular}{lllll}\n",
       " Offset & Variable & Partition & W & Label\\\\\n",
       " <dbl> & <int> & <int> & <dbl> & <chr>\\\\\n",
       "\\hline\n",
       "\t 1 &  1 & 4 & 1.8782197 & Z\\_61 : 1;  Z\\_68 : 1\\\\\n",
       "\t 1 &  2 & 4 & 1.6765810 & Z\\_63 : 1;  Z\\_79 : 1\\\\\n",
       "\t 1 &  3 & 4 & 1.7194466 & Z\\_71 : 1;  Z\\_61 : 1\\\\\n",
       "\t 1 &  4 & 4 & 1.2458230 & Z\\_74 : 1;  Z\\_66 : 1\\\\\n",
       "\t 1 &  7 & 4 & 1.5211617 & Z\\_77 : 1;  Z\\_63 : 1\\\\\n",
       "\t 1 & 11 & 4 & 1.6683667 & Z\\_69 : 1;  Z\\_77 : 1\\\\\n",
       "\t 1 & 13 & 4 & 1.4680500 & Z\\_78 : 1;  Z\\_75 : 1\\\\\n",
       "\t 1 & 13 & 2 & 0.2852935 & Z\\_78 : 0;  Z\\_75 : 1\\\\\n",
       "\t 1 & 14 & 4 & 1.1919779 & Z\\_67 : 1;  Z\\_75 : 1\\\\\n",
       "\t 1 & 17 & 4 & 1.6822991 & Z\\_64 : 1;  Z\\_62 : 1\\\\\n",
       "\t 1 & 19 & 4 & 1.4316400 & Z\\_72 : 1;  Z\\_67 : 1\\\\\n",
       "\\end{tabular}\n"
      ],
      "text/markdown": [
       "\n",
       "A tibble: 11 × 5\n",
       "\n",
       "| Offset &lt;dbl&gt; | Variable &lt;int&gt; | Partition &lt;int&gt; | W &lt;dbl&gt; | Label &lt;chr&gt; |\n",
       "|---|---|---|---|---|\n",
       "| 1 |  1 | 4 | 1.8782197 | Z_61 : 1;  Z_68 : 1 |\n",
       "| 1 |  2 | 4 | 1.6765810 | Z_63 : 1;  Z_79 : 1 |\n",
       "| 1 |  3 | 4 | 1.7194466 | Z_71 : 1;  Z_61 : 1 |\n",
       "| 1 |  4 | 4 | 1.2458230 | Z_74 : 1;  Z_66 : 1 |\n",
       "| 1 |  7 | 4 | 1.5211617 | Z_77 : 1;  Z_63 : 1 |\n",
       "| 1 | 11 | 4 | 1.6683667 | Z_69 : 1;  Z_77 : 1 |\n",
       "| 1 | 13 | 4 | 1.4680500 | Z_78 : 1;  Z_75 : 1 |\n",
       "| 1 | 13 | 2 | 0.2852935 | Z_78 : 0;  Z_75 : 1 |\n",
       "| 1 | 14 | 4 | 1.1919779 | Z_67 : 1;  Z_75 : 1 |\n",
       "| 1 | 17 | 4 | 1.6822991 | Z_64 : 1;  Z_62 : 1 |\n",
       "| 1 | 19 | 4 | 1.4316400 | Z_72 : 1;  Z_67 : 1 |\n",
       "\n"
      ],
      "text/plain": [
       "   Offset Variable Partition W         Label              \n",
       "1  1       1       4         1.8782197 Z_61 : 1;  Z_68 : 1\n",
       "2  1       2       4         1.6765810 Z_63 : 1;  Z_79 : 1\n",
       "3  1       3       4         1.7194466 Z_71 : 1;  Z_61 : 1\n",
       "4  1       4       4         1.2458230 Z_74 : 1;  Z_66 : 1\n",
       "5  1       7       4         1.5211617 Z_77 : 1;  Z_63 : 1\n",
       "6  1      11       4         1.6683667 Z_69 : 1;  Z_77 : 1\n",
       "7  1      13       4         1.4680500 Z_78 : 1;  Z_75 : 1\n",
       "8  1      13       2         0.2852935 Z_78 : 0;  Z_75 : 1\n",
       "9  1      14       4         1.1919779 Z_67 : 1;  Z_75 : 1\n",
       "10 1      17       4         1.6822991 Z_64 : 1;  Z_62 : 1\n",
       "11 1      19       4         1.4316400 Z_72 : 1;  Z_67 : 1"
      ]
     },
     "metadata": {},
     "output_type": "display_data"
    }
   ],
   "source": [
    "discoveries.skf"
   ]
  },
  {
   "cell_type": "markdown",
   "id": "e9973ca8",
   "metadata": {},
   "source": [
    "The full list of hypotheses tested by the SKF is:"
   ]
  },
  {
   "cell_type": "code",
   "execution_count": 8,
   "id": "65471ca7",
   "metadata": {
    "scrolled": true
   },
   "outputs": [
    {
     "data": {
      "text/html": [
       "<table class=\"dataframe\">\n",
       "<caption>A tibble: 78 × 8</caption>\n",
       "<thead>\n",
       "\t<tr><th scope=col>Variable</th><th scope=col>Variables</th><th scope=col>Partition</th><th scope=col>Label</th><th scope=col>Null</th><th scope=col>Causal.prop</th><th scope=col>Beta.sd</th><th scope=col>n.sub</th></tr>\n",
       "\t<tr><th scope=col>&lt;int&gt;</th><th scope=col>&lt;chr&gt;</th><th scope=col>&lt;int&gt;</th><th scope=col>&lt;chr&gt;</th><th scope=col>&lt;lgl&gt;</th><th scope=col>&lt;dbl&gt;</th><th scope=col>&lt;dbl&gt;</th><th scope=col>&lt;int&gt;</th></tr>\n",
       "</thead>\n",
       "<tbody>\n",
       "\t<tr><td>1</td><td>Z_61, Z_68</td><td>1</td><td>Z_61 : 0;  Z_68 : 0</td><td> TRUE</td><td>0</td><td>0</td><td>481</td></tr>\n",
       "\t<tr><td>1</td><td>Z_61, Z_68</td><td>2</td><td>Z_61 : 0;  Z_68 : 1</td><td> TRUE</td><td>0</td><td>0</td><td>487</td></tr>\n",
       "\t<tr><td>1</td><td>Z_61, Z_68</td><td>3</td><td>Z_61 : 1;  Z_68 : 0</td><td> TRUE</td><td>0</td><td>0</td><td>511</td></tr>\n",
       "\t<tr><td>1</td><td>Z_61, Z_68</td><td>4</td><td>Z_61 : 1;  Z_68 : 1</td><td>FALSE</td><td>1</td><td>0</td><td>521</td></tr>\n",
       "\t<tr><td>2</td><td>Z_63, Z_79</td><td>1</td><td>Z_63 : 0;  Z_79 : 0</td><td> TRUE</td><td>0</td><td>0</td><td>492</td></tr>\n",
       "\t<tr><td>2</td><td>Z_63, Z_79</td><td>2</td><td>Z_63 : 0;  Z_79 : 1</td><td> TRUE</td><td>0</td><td>0</td><td>522</td></tr>\n",
       "\t<tr><td>2</td><td>Z_63, Z_79</td><td>3</td><td>Z_63 : 1;  Z_79 : 0</td><td> TRUE</td><td>0</td><td>0</td><td>473</td></tr>\n",
       "\t<tr><td>2</td><td>Z_63, Z_79</td><td>4</td><td>Z_63 : 1;  Z_79 : 1</td><td>FALSE</td><td>1</td><td>0</td><td>513</td></tr>\n",
       "\t<tr><td>3</td><td>Z_71, Z_61</td><td>1</td><td>Z_71 : 0;  Z_61 : 0</td><td> TRUE</td><td>0</td><td>0</td><td>472</td></tr>\n",
       "\t<tr><td>3</td><td>Z_71, Z_61</td><td>2</td><td>Z_71 : 0;  Z_61 : 1</td><td> TRUE</td><td>0</td><td>0</td><td>489</td></tr>\n",
       "\t<tr><td>3</td><td>Z_71, Z_61</td><td>3</td><td>Z_71 : 1;  Z_61 : 0</td><td> TRUE</td><td>0</td><td>0</td><td>496</td></tr>\n",
       "\t<tr><td>3</td><td>Z_71, Z_61</td><td>4</td><td>Z_71 : 1;  Z_61 : 1</td><td>FALSE</td><td>1</td><td>0</td><td>543</td></tr>\n",
       "\t<tr><td>4</td><td>Z_74, Z_66</td><td>1</td><td>Z_74 : 0;  Z_66 : 0</td><td> TRUE</td><td>0</td><td>0</td><td>500</td></tr>\n",
       "\t<tr><td>4</td><td>Z_74, Z_66</td><td>2</td><td>Z_74 : 0;  Z_66 : 1</td><td> TRUE</td><td>0</td><td>0</td><td>474</td></tr>\n",
       "\t<tr><td>4</td><td>Z_74, Z_66</td><td>3</td><td>Z_74 : 1;  Z_66 : 0</td><td> TRUE</td><td>0</td><td>0</td><td>511</td></tr>\n",
       "\t<tr><td>4</td><td>Z_74, Z_66</td><td>4</td><td>Z_74 : 1;  Z_66 : 1</td><td>FALSE</td><td>1</td><td>0</td><td>515</td></tr>\n",
       "\t<tr><td>5</td><td>Z_62, Z_77</td><td>1</td><td>Z_62 : 0;  Z_77 : 0</td><td> TRUE</td><td>0</td><td>0</td><td>490</td></tr>\n",
       "\t<tr><td>5</td><td>Z_62, Z_77</td><td>2</td><td>Z_62 : 0;  Z_77 : 1</td><td> TRUE</td><td>0</td><td>0</td><td>472</td></tr>\n",
       "\t<tr><td>5</td><td>Z_62, Z_77</td><td>3</td><td>Z_62 : 1;  Z_77 : 0</td><td> TRUE</td><td>0</td><td>0</td><td>512</td></tr>\n",
       "\t<tr><td>5</td><td>Z_62, Z_77</td><td>4</td><td>Z_62 : 1;  Z_77 : 1</td><td> TRUE</td><td>0</td><td>0</td><td>526</td></tr>\n",
       "\t<tr><td>6</td><td>Z_70, Z_63</td><td>1</td><td>Z_70 : 0;  Z_63 : 0</td><td> TRUE</td><td>0</td><td>0</td><td>535</td></tr>\n",
       "\t<tr><td>6</td><td>Z_70, Z_63</td><td>2</td><td>Z_70 : 0;  Z_63 : 1</td><td> TRUE</td><td>0</td><td>0</td><td>493</td></tr>\n",
       "\t<tr><td>6</td><td>Z_70, Z_63</td><td>3</td><td>Z_70 : 1;  Z_63 : 0</td><td> TRUE</td><td>0</td><td>0</td><td>479</td></tr>\n",
       "\t<tr><td>6</td><td>Z_70, Z_63</td><td>4</td><td>Z_70 : 1;  Z_63 : 1</td><td> TRUE</td><td>0</td><td>0</td><td>493</td></tr>\n",
       "\t<tr><td>7</td><td>Z_77, Z_63</td><td>1</td><td>Z_77 : 0;  Z_63 : 0</td><td> TRUE</td><td>0</td><td>0</td><td>513</td></tr>\n",
       "\t<tr><td>7</td><td>Z_77, Z_63</td><td>2</td><td>Z_77 : 0;  Z_63 : 1</td><td> TRUE</td><td>0</td><td>0</td><td>489</td></tr>\n",
       "\t<tr><td>7</td><td>Z_77, Z_63</td><td>3</td><td>Z_77 : 1;  Z_63 : 0</td><td> TRUE</td><td>0</td><td>0</td><td>501</td></tr>\n",
       "\t<tr><td>7</td><td>Z_77, Z_63</td><td>4</td><td>Z_77 : 1;  Z_63 : 1</td><td>FALSE</td><td>1</td><td>0</td><td>497</td></tr>\n",
       "\t<tr><td>8</td><td>Z_67, Z_72</td><td>1</td><td>Z_67 : 0;  Z_72 : 0</td><td> TRUE</td><td>0</td><td>0</td><td>499</td></tr>\n",
       "\t<tr><td>8</td><td>Z_67, Z_72</td><td>2</td><td>Z_67 : 0;  Z_72 : 1</td><td> TRUE</td><td>0</td><td>0</td><td>497</td></tr>\n",
       "\t<tr><td>⋮</td><td>⋮</td><td>⋮</td><td>⋮</td><td>⋮</td><td>⋮</td><td>⋮</td><td>⋮</td></tr>\n",
       "\t<tr><td>13</td><td>Z_78, Z_75</td><td>1</td><td>Z_78 : 0;  Z_75 : 0</td><td> TRUE</td><td>0</td><td>0</td><td> 522</td></tr>\n",
       "\t<tr><td>13</td><td>Z_78, Z_75</td><td>2</td><td>Z_78 : 0;  Z_75 : 1</td><td> TRUE</td><td>0</td><td>0</td><td> 491</td></tr>\n",
       "\t<tr><td>13</td><td>Z_78, Z_75</td><td>3</td><td>Z_78 : 1;  Z_75 : 0</td><td> TRUE</td><td>0</td><td>0</td><td> 492</td></tr>\n",
       "\t<tr><td>13</td><td>Z_78, Z_75</td><td>4</td><td>Z_78 : 1;  Z_75 : 1</td><td>FALSE</td><td>1</td><td>0</td><td> 495</td></tr>\n",
       "\t<tr><td>14</td><td>Z_67, Z_75</td><td>1</td><td>Z_67 : 0;  Z_75 : 0</td><td> TRUE</td><td>0</td><td>0</td><td> 513</td></tr>\n",
       "\t<tr><td>14</td><td>Z_67, Z_75</td><td>2</td><td>Z_67 : 0;  Z_75 : 1</td><td> TRUE</td><td>0</td><td>0</td><td> 483</td></tr>\n",
       "\t<tr><td>14</td><td>Z_67, Z_75</td><td>3</td><td>Z_67 : 1;  Z_75 : 0</td><td> TRUE</td><td>0</td><td>0</td><td> 501</td></tr>\n",
       "\t<tr><td>14</td><td>Z_67, Z_75</td><td>4</td><td>Z_67 : 1;  Z_75 : 1</td><td>FALSE</td><td>1</td><td>0</td><td> 503</td></tr>\n",
       "\t<tr><td>15</td><td>Z_62, Z_70</td><td>1</td><td>Z_62 : 0;  Z_70 : 0</td><td> TRUE</td><td>0</td><td>0</td><td> 464</td></tr>\n",
       "\t<tr><td>15</td><td>Z_62, Z_70</td><td>2</td><td>Z_62 : 0;  Z_70 : 1</td><td> TRUE</td><td>0</td><td>0</td><td> 498</td></tr>\n",
       "\t<tr><td>15</td><td>Z_62, Z_70</td><td>3</td><td>Z_62 : 1;  Z_70 : 0</td><td> TRUE</td><td>0</td><td>0</td><td> 564</td></tr>\n",
       "\t<tr><td>15</td><td>Z_62, Z_70</td><td>4</td><td>Z_62 : 1;  Z_70 : 1</td><td> TRUE</td><td>0</td><td>0</td><td> 474</td></tr>\n",
       "\t<tr><td>16</td><td>Z_72      </td><td>1</td><td>Z_72 : 0           </td><td> TRUE</td><td>0</td><td>0</td><td>1000</td></tr>\n",
       "\t<tr><td>16</td><td>Z_72      </td><td>2</td><td>Z_72 : 1           </td><td> TRUE</td><td>0</td><td>0</td><td>1000</td></tr>\n",
       "\t<tr><td>17</td><td>Z_64, Z_62</td><td>1</td><td>Z_64 : 0;  Z_62 : 0</td><td> TRUE</td><td>0</td><td>0</td><td> 503</td></tr>\n",
       "\t<tr><td>17</td><td>Z_64, Z_62</td><td>2</td><td>Z_64 : 0;  Z_62 : 1</td><td> TRUE</td><td>0</td><td>0</td><td> 524</td></tr>\n",
       "\t<tr><td>17</td><td>Z_64, Z_62</td><td>3</td><td>Z_64 : 1;  Z_62 : 0</td><td> TRUE</td><td>0</td><td>0</td><td> 459</td></tr>\n",
       "\t<tr><td>17</td><td>Z_64, Z_62</td><td>4</td><td>Z_64 : 1;  Z_62 : 1</td><td>FALSE</td><td>1</td><td>0</td><td> 514</td></tr>\n",
       "\t<tr><td>18</td><td>Z_71, Z_65</td><td>1</td><td>Z_71 : 0;  Z_65 : 0</td><td> TRUE</td><td>0</td><td>0</td><td> 485</td></tr>\n",
       "\t<tr><td>18</td><td>Z_71, Z_65</td><td>2</td><td>Z_71 : 0;  Z_65 : 1</td><td> TRUE</td><td>0</td><td>0</td><td> 476</td></tr>\n",
       "\t<tr><td>18</td><td>Z_71, Z_65</td><td>3</td><td>Z_71 : 1;  Z_65 : 0</td><td> TRUE</td><td>0</td><td>0</td><td> 507</td></tr>\n",
       "\t<tr><td>18</td><td>Z_71, Z_65</td><td>4</td><td>Z_71 : 1;  Z_65 : 1</td><td> TRUE</td><td>0</td><td>0</td><td> 532</td></tr>\n",
       "\t<tr><td>19</td><td>Z_72, Z_67</td><td>1</td><td>Z_72 : 0;  Z_67 : 0</td><td> TRUE</td><td>0</td><td>0</td><td> 499</td></tr>\n",
       "\t<tr><td>19</td><td>Z_72, Z_67</td><td>2</td><td>Z_72 : 0;  Z_67 : 1</td><td> TRUE</td><td>0</td><td>0</td><td> 501</td></tr>\n",
       "\t<tr><td>19</td><td>Z_72, Z_67</td><td>3</td><td>Z_72 : 1;  Z_67 : 0</td><td> TRUE</td><td>0</td><td>0</td><td> 497</td></tr>\n",
       "\t<tr><td>19</td><td>Z_72, Z_67</td><td>4</td><td>Z_72 : 1;  Z_67 : 1</td><td>FALSE</td><td>1</td><td>0</td><td> 503</td></tr>\n",
       "\t<tr><td>20</td><td>Z_61, Z_77</td><td>1</td><td>Z_61 : 0;  Z_77 : 0</td><td> TRUE</td><td>0</td><td>0</td><td> 473</td></tr>\n",
       "\t<tr><td>20</td><td>Z_61, Z_77</td><td>2</td><td>Z_61 : 0;  Z_77 : 1</td><td> TRUE</td><td>0</td><td>0</td><td> 495</td></tr>\n",
       "\t<tr><td>20</td><td>Z_61, Z_77</td><td>3</td><td>Z_61 : 1;  Z_77 : 0</td><td> TRUE</td><td>0</td><td>0</td><td> 529</td></tr>\n",
       "\t<tr><td>20</td><td>Z_61, Z_77</td><td>4</td><td>Z_61 : 1;  Z_77 : 1</td><td> TRUE</td><td>0</td><td>0</td><td> 503</td></tr>\n",
       "</tbody>\n",
       "</table>\n"
      ],
      "text/latex": [
       "A tibble: 78 × 8\n",
       "\\begin{tabular}{llllllll}\n",
       " Variable & Variables & Partition & Label & Null & Causal.prop & Beta.sd & n.sub\\\\\n",
       " <int> & <chr> & <int> & <chr> & <lgl> & <dbl> & <dbl> & <int>\\\\\n",
       "\\hline\n",
       "\t 1 & Z\\_61, Z\\_68 & 1 & Z\\_61 : 0;  Z\\_68 : 0 &  TRUE & 0 & 0 & 481\\\\\n",
       "\t 1 & Z\\_61, Z\\_68 & 2 & Z\\_61 : 0;  Z\\_68 : 1 &  TRUE & 0 & 0 & 487\\\\\n",
       "\t 1 & Z\\_61, Z\\_68 & 3 & Z\\_61 : 1;  Z\\_68 : 0 &  TRUE & 0 & 0 & 511\\\\\n",
       "\t 1 & Z\\_61, Z\\_68 & 4 & Z\\_61 : 1;  Z\\_68 : 1 & FALSE & 1 & 0 & 521\\\\\n",
       "\t 2 & Z\\_63, Z\\_79 & 1 & Z\\_63 : 0;  Z\\_79 : 0 &  TRUE & 0 & 0 & 492\\\\\n",
       "\t 2 & Z\\_63, Z\\_79 & 2 & Z\\_63 : 0;  Z\\_79 : 1 &  TRUE & 0 & 0 & 522\\\\\n",
       "\t 2 & Z\\_63, Z\\_79 & 3 & Z\\_63 : 1;  Z\\_79 : 0 &  TRUE & 0 & 0 & 473\\\\\n",
       "\t 2 & Z\\_63, Z\\_79 & 4 & Z\\_63 : 1;  Z\\_79 : 1 & FALSE & 1 & 0 & 513\\\\\n",
       "\t 3 & Z\\_71, Z\\_61 & 1 & Z\\_71 : 0;  Z\\_61 : 0 &  TRUE & 0 & 0 & 472\\\\\n",
       "\t 3 & Z\\_71, Z\\_61 & 2 & Z\\_71 : 0;  Z\\_61 : 1 &  TRUE & 0 & 0 & 489\\\\\n",
       "\t 3 & Z\\_71, Z\\_61 & 3 & Z\\_71 : 1;  Z\\_61 : 0 &  TRUE & 0 & 0 & 496\\\\\n",
       "\t 3 & Z\\_71, Z\\_61 & 4 & Z\\_71 : 1;  Z\\_61 : 1 & FALSE & 1 & 0 & 543\\\\\n",
       "\t 4 & Z\\_74, Z\\_66 & 1 & Z\\_74 : 0;  Z\\_66 : 0 &  TRUE & 0 & 0 & 500\\\\\n",
       "\t 4 & Z\\_74, Z\\_66 & 2 & Z\\_74 : 0;  Z\\_66 : 1 &  TRUE & 0 & 0 & 474\\\\\n",
       "\t 4 & Z\\_74, Z\\_66 & 3 & Z\\_74 : 1;  Z\\_66 : 0 &  TRUE & 0 & 0 & 511\\\\\n",
       "\t 4 & Z\\_74, Z\\_66 & 4 & Z\\_74 : 1;  Z\\_66 : 1 & FALSE & 1 & 0 & 515\\\\\n",
       "\t 5 & Z\\_62, Z\\_77 & 1 & Z\\_62 : 0;  Z\\_77 : 0 &  TRUE & 0 & 0 & 490\\\\\n",
       "\t 5 & Z\\_62, Z\\_77 & 2 & Z\\_62 : 0;  Z\\_77 : 1 &  TRUE & 0 & 0 & 472\\\\\n",
       "\t 5 & Z\\_62, Z\\_77 & 3 & Z\\_62 : 1;  Z\\_77 : 0 &  TRUE & 0 & 0 & 512\\\\\n",
       "\t 5 & Z\\_62, Z\\_77 & 4 & Z\\_62 : 1;  Z\\_77 : 1 &  TRUE & 0 & 0 & 526\\\\\n",
       "\t 6 & Z\\_70, Z\\_63 & 1 & Z\\_70 : 0;  Z\\_63 : 0 &  TRUE & 0 & 0 & 535\\\\\n",
       "\t 6 & Z\\_70, Z\\_63 & 2 & Z\\_70 : 0;  Z\\_63 : 1 &  TRUE & 0 & 0 & 493\\\\\n",
       "\t 6 & Z\\_70, Z\\_63 & 3 & Z\\_70 : 1;  Z\\_63 : 0 &  TRUE & 0 & 0 & 479\\\\\n",
       "\t 6 & Z\\_70, Z\\_63 & 4 & Z\\_70 : 1;  Z\\_63 : 1 &  TRUE & 0 & 0 & 493\\\\\n",
       "\t 7 & Z\\_77, Z\\_63 & 1 & Z\\_77 : 0;  Z\\_63 : 0 &  TRUE & 0 & 0 & 513\\\\\n",
       "\t 7 & Z\\_77, Z\\_63 & 2 & Z\\_77 : 0;  Z\\_63 : 1 &  TRUE & 0 & 0 & 489\\\\\n",
       "\t 7 & Z\\_77, Z\\_63 & 3 & Z\\_77 : 1;  Z\\_63 : 0 &  TRUE & 0 & 0 & 501\\\\\n",
       "\t 7 & Z\\_77, Z\\_63 & 4 & Z\\_77 : 1;  Z\\_63 : 1 & FALSE & 1 & 0 & 497\\\\\n",
       "\t 8 & Z\\_67, Z\\_72 & 1 & Z\\_67 : 0;  Z\\_72 : 0 &  TRUE & 0 & 0 & 499\\\\\n",
       "\t 8 & Z\\_67, Z\\_72 & 2 & Z\\_67 : 0;  Z\\_72 : 1 &  TRUE & 0 & 0 & 497\\\\\n",
       "\t ⋮ & ⋮ & ⋮ & ⋮ & ⋮ & ⋮ & ⋮ & ⋮\\\\\n",
       "\t 13 & Z\\_78, Z\\_75 & 1 & Z\\_78 : 0;  Z\\_75 : 0 &  TRUE & 0 & 0 &  522\\\\\n",
       "\t 13 & Z\\_78, Z\\_75 & 2 & Z\\_78 : 0;  Z\\_75 : 1 &  TRUE & 0 & 0 &  491\\\\\n",
       "\t 13 & Z\\_78, Z\\_75 & 3 & Z\\_78 : 1;  Z\\_75 : 0 &  TRUE & 0 & 0 &  492\\\\\n",
       "\t 13 & Z\\_78, Z\\_75 & 4 & Z\\_78 : 1;  Z\\_75 : 1 & FALSE & 1 & 0 &  495\\\\\n",
       "\t 14 & Z\\_67, Z\\_75 & 1 & Z\\_67 : 0;  Z\\_75 : 0 &  TRUE & 0 & 0 &  513\\\\\n",
       "\t 14 & Z\\_67, Z\\_75 & 2 & Z\\_67 : 0;  Z\\_75 : 1 &  TRUE & 0 & 0 &  483\\\\\n",
       "\t 14 & Z\\_67, Z\\_75 & 3 & Z\\_67 : 1;  Z\\_75 : 0 &  TRUE & 0 & 0 &  501\\\\\n",
       "\t 14 & Z\\_67, Z\\_75 & 4 & Z\\_67 : 1;  Z\\_75 : 1 & FALSE & 1 & 0 &  503\\\\\n",
       "\t 15 & Z\\_62, Z\\_70 & 1 & Z\\_62 : 0;  Z\\_70 : 0 &  TRUE & 0 & 0 &  464\\\\\n",
       "\t 15 & Z\\_62, Z\\_70 & 2 & Z\\_62 : 0;  Z\\_70 : 1 &  TRUE & 0 & 0 &  498\\\\\n",
       "\t 15 & Z\\_62, Z\\_70 & 3 & Z\\_62 : 1;  Z\\_70 : 0 &  TRUE & 0 & 0 &  564\\\\\n",
       "\t 15 & Z\\_62, Z\\_70 & 4 & Z\\_62 : 1;  Z\\_70 : 1 &  TRUE & 0 & 0 &  474\\\\\n",
       "\t 16 & Z\\_72       & 1 & Z\\_72 : 0            &  TRUE & 0 & 0 & 1000\\\\\n",
       "\t 16 & Z\\_72       & 2 & Z\\_72 : 1            &  TRUE & 0 & 0 & 1000\\\\\n",
       "\t 17 & Z\\_64, Z\\_62 & 1 & Z\\_64 : 0;  Z\\_62 : 0 &  TRUE & 0 & 0 &  503\\\\\n",
       "\t 17 & Z\\_64, Z\\_62 & 2 & Z\\_64 : 0;  Z\\_62 : 1 &  TRUE & 0 & 0 &  524\\\\\n",
       "\t 17 & Z\\_64, Z\\_62 & 3 & Z\\_64 : 1;  Z\\_62 : 0 &  TRUE & 0 & 0 &  459\\\\\n",
       "\t 17 & Z\\_64, Z\\_62 & 4 & Z\\_64 : 1;  Z\\_62 : 1 & FALSE & 1 & 0 &  514\\\\\n",
       "\t 18 & Z\\_71, Z\\_65 & 1 & Z\\_71 : 0;  Z\\_65 : 0 &  TRUE & 0 & 0 &  485\\\\\n",
       "\t 18 & Z\\_71, Z\\_65 & 2 & Z\\_71 : 0;  Z\\_65 : 1 &  TRUE & 0 & 0 &  476\\\\\n",
       "\t 18 & Z\\_71, Z\\_65 & 3 & Z\\_71 : 1;  Z\\_65 : 0 &  TRUE & 0 & 0 &  507\\\\\n",
       "\t 18 & Z\\_71, Z\\_65 & 4 & Z\\_71 : 1;  Z\\_65 : 1 &  TRUE & 0 & 0 &  532\\\\\n",
       "\t 19 & Z\\_72, Z\\_67 & 1 & Z\\_72 : 0;  Z\\_67 : 0 &  TRUE & 0 & 0 &  499\\\\\n",
       "\t 19 & Z\\_72, Z\\_67 & 2 & Z\\_72 : 0;  Z\\_67 : 1 &  TRUE & 0 & 0 &  501\\\\\n",
       "\t 19 & Z\\_72, Z\\_67 & 3 & Z\\_72 : 1;  Z\\_67 : 0 &  TRUE & 0 & 0 &  497\\\\\n",
       "\t 19 & Z\\_72, Z\\_67 & 4 & Z\\_72 : 1;  Z\\_67 : 1 & FALSE & 1 & 0 &  503\\\\\n",
       "\t 20 & Z\\_61, Z\\_77 & 1 & Z\\_61 : 0;  Z\\_77 : 0 &  TRUE & 0 & 0 &  473\\\\\n",
       "\t 20 & Z\\_61, Z\\_77 & 2 & Z\\_61 : 0;  Z\\_77 : 1 &  TRUE & 0 & 0 &  495\\\\\n",
       "\t 20 & Z\\_61, Z\\_77 & 3 & Z\\_61 : 1;  Z\\_77 : 0 &  TRUE & 0 & 0 &  529\\\\\n",
       "\t 20 & Z\\_61, Z\\_77 & 4 & Z\\_61 : 1;  Z\\_77 : 1 &  TRUE & 0 & 0 &  503\\\\\n",
       "\\end{tabular}\n"
      ],
      "text/markdown": [
       "\n",
       "A tibble: 78 × 8\n",
       "\n",
       "| Variable &lt;int&gt; | Variables &lt;chr&gt; | Partition &lt;int&gt; | Label &lt;chr&gt; | Null &lt;lgl&gt; | Causal.prop &lt;dbl&gt; | Beta.sd &lt;dbl&gt; | n.sub &lt;int&gt; |\n",
       "|---|---|---|---|---|---|---|---|\n",
       "| 1 | Z_61, Z_68 | 1 | Z_61 : 0;  Z_68 : 0 |  TRUE | 0 | 0 | 481 |\n",
       "| 1 | Z_61, Z_68 | 2 | Z_61 : 0;  Z_68 : 1 |  TRUE | 0 | 0 | 487 |\n",
       "| 1 | Z_61, Z_68 | 3 | Z_61 : 1;  Z_68 : 0 |  TRUE | 0 | 0 | 511 |\n",
       "| 1 | Z_61, Z_68 | 4 | Z_61 : 1;  Z_68 : 1 | FALSE | 1 | 0 | 521 |\n",
       "| 2 | Z_63, Z_79 | 1 | Z_63 : 0;  Z_79 : 0 |  TRUE | 0 | 0 | 492 |\n",
       "| 2 | Z_63, Z_79 | 2 | Z_63 : 0;  Z_79 : 1 |  TRUE | 0 | 0 | 522 |\n",
       "| 2 | Z_63, Z_79 | 3 | Z_63 : 1;  Z_79 : 0 |  TRUE | 0 | 0 | 473 |\n",
       "| 2 | Z_63, Z_79 | 4 | Z_63 : 1;  Z_79 : 1 | FALSE | 1 | 0 | 513 |\n",
       "| 3 | Z_71, Z_61 | 1 | Z_71 : 0;  Z_61 : 0 |  TRUE | 0 | 0 | 472 |\n",
       "| 3 | Z_71, Z_61 | 2 | Z_71 : 0;  Z_61 : 1 |  TRUE | 0 | 0 | 489 |\n",
       "| 3 | Z_71, Z_61 | 3 | Z_71 : 1;  Z_61 : 0 |  TRUE | 0 | 0 | 496 |\n",
       "| 3 | Z_71, Z_61 | 4 | Z_71 : 1;  Z_61 : 1 | FALSE | 1 | 0 | 543 |\n",
       "| 4 | Z_74, Z_66 | 1 | Z_74 : 0;  Z_66 : 0 |  TRUE | 0 | 0 | 500 |\n",
       "| 4 | Z_74, Z_66 | 2 | Z_74 : 0;  Z_66 : 1 |  TRUE | 0 | 0 | 474 |\n",
       "| 4 | Z_74, Z_66 | 3 | Z_74 : 1;  Z_66 : 0 |  TRUE | 0 | 0 | 511 |\n",
       "| 4 | Z_74, Z_66 | 4 | Z_74 : 1;  Z_66 : 1 | FALSE | 1 | 0 | 515 |\n",
       "| 5 | Z_62, Z_77 | 1 | Z_62 : 0;  Z_77 : 0 |  TRUE | 0 | 0 | 490 |\n",
       "| 5 | Z_62, Z_77 | 2 | Z_62 : 0;  Z_77 : 1 |  TRUE | 0 | 0 | 472 |\n",
       "| 5 | Z_62, Z_77 | 3 | Z_62 : 1;  Z_77 : 0 |  TRUE | 0 | 0 | 512 |\n",
       "| 5 | Z_62, Z_77 | 4 | Z_62 : 1;  Z_77 : 1 |  TRUE | 0 | 0 | 526 |\n",
       "| 6 | Z_70, Z_63 | 1 | Z_70 : 0;  Z_63 : 0 |  TRUE | 0 | 0 | 535 |\n",
       "| 6 | Z_70, Z_63 | 2 | Z_70 : 0;  Z_63 : 1 |  TRUE | 0 | 0 | 493 |\n",
       "| 6 | Z_70, Z_63 | 3 | Z_70 : 1;  Z_63 : 0 |  TRUE | 0 | 0 | 479 |\n",
       "| 6 | Z_70, Z_63 | 4 | Z_70 : 1;  Z_63 : 1 |  TRUE | 0 | 0 | 493 |\n",
       "| 7 | Z_77, Z_63 | 1 | Z_77 : 0;  Z_63 : 0 |  TRUE | 0 | 0 | 513 |\n",
       "| 7 | Z_77, Z_63 | 2 | Z_77 : 0;  Z_63 : 1 |  TRUE | 0 | 0 | 489 |\n",
       "| 7 | Z_77, Z_63 | 3 | Z_77 : 1;  Z_63 : 0 |  TRUE | 0 | 0 | 501 |\n",
       "| 7 | Z_77, Z_63 | 4 | Z_77 : 1;  Z_63 : 1 | FALSE | 1 | 0 | 497 |\n",
       "| 8 | Z_67, Z_72 | 1 | Z_67 : 0;  Z_72 : 0 |  TRUE | 0 | 0 | 499 |\n",
       "| 8 | Z_67, Z_72 | 2 | Z_67 : 0;  Z_72 : 1 |  TRUE | 0 | 0 | 497 |\n",
       "| ⋮ | ⋮ | ⋮ | ⋮ | ⋮ | ⋮ | ⋮ | ⋮ |\n",
       "| 13 | Z_78, Z_75 | 1 | Z_78 : 0;  Z_75 : 0 |  TRUE | 0 | 0 |  522 |\n",
       "| 13 | Z_78, Z_75 | 2 | Z_78 : 0;  Z_75 : 1 |  TRUE | 0 | 0 |  491 |\n",
       "| 13 | Z_78, Z_75 | 3 | Z_78 : 1;  Z_75 : 0 |  TRUE | 0 | 0 |  492 |\n",
       "| 13 | Z_78, Z_75 | 4 | Z_78 : 1;  Z_75 : 1 | FALSE | 1 | 0 |  495 |\n",
       "| 14 | Z_67, Z_75 | 1 | Z_67 : 0;  Z_75 : 0 |  TRUE | 0 | 0 |  513 |\n",
       "| 14 | Z_67, Z_75 | 2 | Z_67 : 0;  Z_75 : 1 |  TRUE | 0 | 0 |  483 |\n",
       "| 14 | Z_67, Z_75 | 3 | Z_67 : 1;  Z_75 : 0 |  TRUE | 0 | 0 |  501 |\n",
       "| 14 | Z_67, Z_75 | 4 | Z_67 : 1;  Z_75 : 1 | FALSE | 1 | 0 |  503 |\n",
       "| 15 | Z_62, Z_70 | 1 | Z_62 : 0;  Z_70 : 0 |  TRUE | 0 | 0 |  464 |\n",
       "| 15 | Z_62, Z_70 | 2 | Z_62 : 0;  Z_70 : 1 |  TRUE | 0 | 0 |  498 |\n",
       "| 15 | Z_62, Z_70 | 3 | Z_62 : 1;  Z_70 : 0 |  TRUE | 0 | 0 |  564 |\n",
       "| 15 | Z_62, Z_70 | 4 | Z_62 : 1;  Z_70 : 1 |  TRUE | 0 | 0 |  474 |\n",
       "| 16 | Z_72       | 1 | Z_72 : 0            |  TRUE | 0 | 0 | 1000 |\n",
       "| 16 | Z_72       | 2 | Z_72 : 1            |  TRUE | 0 | 0 | 1000 |\n",
       "| 17 | Z_64, Z_62 | 1 | Z_64 : 0;  Z_62 : 0 |  TRUE | 0 | 0 |  503 |\n",
       "| 17 | Z_64, Z_62 | 2 | Z_64 : 0;  Z_62 : 1 |  TRUE | 0 | 0 |  524 |\n",
       "| 17 | Z_64, Z_62 | 3 | Z_64 : 1;  Z_62 : 0 |  TRUE | 0 | 0 |  459 |\n",
       "| 17 | Z_64, Z_62 | 4 | Z_64 : 1;  Z_62 : 1 | FALSE | 1 | 0 |  514 |\n",
       "| 18 | Z_71, Z_65 | 1 | Z_71 : 0;  Z_65 : 0 |  TRUE | 0 | 0 |  485 |\n",
       "| 18 | Z_71, Z_65 | 2 | Z_71 : 0;  Z_65 : 1 |  TRUE | 0 | 0 |  476 |\n",
       "| 18 | Z_71, Z_65 | 3 | Z_71 : 1;  Z_65 : 0 |  TRUE | 0 | 0 |  507 |\n",
       "| 18 | Z_71, Z_65 | 4 | Z_71 : 1;  Z_65 : 1 |  TRUE | 0 | 0 |  532 |\n",
       "| 19 | Z_72, Z_67 | 1 | Z_72 : 0;  Z_67 : 0 |  TRUE | 0 | 0 |  499 |\n",
       "| 19 | Z_72, Z_67 | 2 | Z_72 : 0;  Z_67 : 1 |  TRUE | 0 | 0 |  501 |\n",
       "| 19 | Z_72, Z_67 | 3 | Z_72 : 1;  Z_67 : 0 |  TRUE | 0 | 0 |  497 |\n",
       "| 19 | Z_72, Z_67 | 4 | Z_72 : 1;  Z_67 : 1 | FALSE | 1 | 0 |  503 |\n",
       "| 20 | Z_61, Z_77 | 1 | Z_61 : 0;  Z_77 : 0 |  TRUE | 0 | 0 |  473 |\n",
       "| 20 | Z_61, Z_77 | 2 | Z_61 : 0;  Z_77 : 1 |  TRUE | 0 | 0 |  495 |\n",
       "| 20 | Z_61, Z_77 | 3 | Z_61 : 1;  Z_77 : 0 |  TRUE | 0 | 0 |  529 |\n",
       "| 20 | Z_61, Z_77 | 4 | Z_61 : 1;  Z_77 : 1 |  TRUE | 0 | 0 |  503 |\n",
       "\n"
      ],
      "text/plain": [
       "   Variable Variables  Partition Label               Null  Causal.prop Beta.sd\n",
       "1  1        Z_61, Z_68 1         Z_61 : 0;  Z_68 : 0  TRUE 0           0      \n",
       "2  1        Z_61, Z_68 2         Z_61 : 0;  Z_68 : 1  TRUE 0           0      \n",
       "3  1        Z_61, Z_68 3         Z_61 : 1;  Z_68 : 0  TRUE 0           0      \n",
       "4  1        Z_61, Z_68 4         Z_61 : 1;  Z_68 : 1 FALSE 1           0      \n",
       "5  2        Z_63, Z_79 1         Z_63 : 0;  Z_79 : 0  TRUE 0           0      \n",
       "6  2        Z_63, Z_79 2         Z_63 : 0;  Z_79 : 1  TRUE 0           0      \n",
       "7  2        Z_63, Z_79 3         Z_63 : 1;  Z_79 : 0  TRUE 0           0      \n",
       "8  2        Z_63, Z_79 4         Z_63 : 1;  Z_79 : 1 FALSE 1           0      \n",
       "9  3        Z_71, Z_61 1         Z_71 : 0;  Z_61 : 0  TRUE 0           0      \n",
       "10 3        Z_71, Z_61 2         Z_71 : 0;  Z_61 : 1  TRUE 0           0      \n",
       "11 3        Z_71, Z_61 3         Z_71 : 1;  Z_61 : 0  TRUE 0           0      \n",
       "12 3        Z_71, Z_61 4         Z_71 : 1;  Z_61 : 1 FALSE 1           0      \n",
       "13 4        Z_74, Z_66 1         Z_74 : 0;  Z_66 : 0  TRUE 0           0      \n",
       "14 4        Z_74, Z_66 2         Z_74 : 0;  Z_66 : 1  TRUE 0           0      \n",
       "15 4        Z_74, Z_66 3         Z_74 : 1;  Z_66 : 0  TRUE 0           0      \n",
       "16 4        Z_74, Z_66 4         Z_74 : 1;  Z_66 : 1 FALSE 1           0      \n",
       "17 5        Z_62, Z_77 1         Z_62 : 0;  Z_77 : 0  TRUE 0           0      \n",
       "18 5        Z_62, Z_77 2         Z_62 : 0;  Z_77 : 1  TRUE 0           0      \n",
       "19 5        Z_62, Z_77 3         Z_62 : 1;  Z_77 : 0  TRUE 0           0      \n",
       "20 5        Z_62, Z_77 4         Z_62 : 1;  Z_77 : 1  TRUE 0           0      \n",
       "21 6        Z_70, Z_63 1         Z_70 : 0;  Z_63 : 0  TRUE 0           0      \n",
       "22 6        Z_70, Z_63 2         Z_70 : 0;  Z_63 : 1  TRUE 0           0      \n",
       "23 6        Z_70, Z_63 3         Z_70 : 1;  Z_63 : 0  TRUE 0           0      \n",
       "24 6        Z_70, Z_63 4         Z_70 : 1;  Z_63 : 1  TRUE 0           0      \n",
       "25 7        Z_77, Z_63 1         Z_77 : 0;  Z_63 : 0  TRUE 0           0      \n",
       "26 7        Z_77, Z_63 2         Z_77 : 0;  Z_63 : 1  TRUE 0           0      \n",
       "27 7        Z_77, Z_63 3         Z_77 : 1;  Z_63 : 0  TRUE 0           0      \n",
       "28 7        Z_77, Z_63 4         Z_77 : 1;  Z_63 : 1 FALSE 1           0      \n",
       "29 8        Z_67, Z_72 1         Z_67 : 0;  Z_72 : 0  TRUE 0           0      \n",
       "30 8        Z_67, Z_72 2         Z_67 : 0;  Z_72 : 1  TRUE 0           0      \n",
       "⋮  ⋮        ⋮          ⋮         ⋮                   ⋮     ⋮           ⋮      \n",
       "49 13       Z_78, Z_75 1         Z_78 : 0;  Z_75 : 0  TRUE 0           0      \n",
       "50 13       Z_78, Z_75 2         Z_78 : 0;  Z_75 : 1  TRUE 0           0      \n",
       "51 13       Z_78, Z_75 3         Z_78 : 1;  Z_75 : 0  TRUE 0           0      \n",
       "52 13       Z_78, Z_75 4         Z_78 : 1;  Z_75 : 1 FALSE 1           0      \n",
       "53 14       Z_67, Z_75 1         Z_67 : 0;  Z_75 : 0  TRUE 0           0      \n",
       "54 14       Z_67, Z_75 2         Z_67 : 0;  Z_75 : 1  TRUE 0           0      \n",
       "55 14       Z_67, Z_75 3         Z_67 : 1;  Z_75 : 0  TRUE 0           0      \n",
       "56 14       Z_67, Z_75 4         Z_67 : 1;  Z_75 : 1 FALSE 1           0      \n",
       "57 15       Z_62, Z_70 1         Z_62 : 0;  Z_70 : 0  TRUE 0           0      \n",
       "58 15       Z_62, Z_70 2         Z_62 : 0;  Z_70 : 1  TRUE 0           0      \n",
       "59 15       Z_62, Z_70 3         Z_62 : 1;  Z_70 : 0  TRUE 0           0      \n",
       "60 15       Z_62, Z_70 4         Z_62 : 1;  Z_70 : 1  TRUE 0           0      \n",
       "61 16       Z_72       1         Z_72 : 0             TRUE 0           0      \n",
       "62 16       Z_72       2         Z_72 : 1             TRUE 0           0      \n",
       "63 17       Z_64, Z_62 1         Z_64 : 0;  Z_62 : 0  TRUE 0           0      \n",
       "64 17       Z_64, Z_62 2         Z_64 : 0;  Z_62 : 1  TRUE 0           0      \n",
       "65 17       Z_64, Z_62 3         Z_64 : 1;  Z_62 : 0  TRUE 0           0      \n",
       "66 17       Z_64, Z_62 4         Z_64 : 1;  Z_62 : 1 FALSE 1           0      \n",
       "67 18       Z_71, Z_65 1         Z_71 : 0;  Z_65 : 0  TRUE 0           0      \n",
       "68 18       Z_71, Z_65 2         Z_71 : 0;  Z_65 : 1  TRUE 0           0      \n",
       "69 18       Z_71, Z_65 3         Z_71 : 1;  Z_65 : 0  TRUE 0           0      \n",
       "70 18       Z_71, Z_65 4         Z_71 : 1;  Z_65 : 1  TRUE 0           0      \n",
       "71 19       Z_72, Z_67 1         Z_72 : 0;  Z_67 : 0  TRUE 0           0      \n",
       "72 19       Z_72, Z_67 2         Z_72 : 0;  Z_67 : 1  TRUE 0           0      \n",
       "73 19       Z_72, Z_67 3         Z_72 : 1;  Z_67 : 0  TRUE 0           0      \n",
       "74 19       Z_72, Z_67 4         Z_72 : 1;  Z_67 : 1 FALSE 1           0      \n",
       "75 20       Z_61, Z_77 1         Z_61 : 0;  Z_77 : 0  TRUE 0           0      \n",
       "76 20       Z_61, Z_77 2         Z_61 : 0;  Z_77 : 1  TRUE 0           0      \n",
       "77 20       Z_61, Z_77 3         Z_61 : 1;  Z_77 : 0  TRUE 0           0      \n",
       "78 20       Z_61, Z_77 4         Z_61 : 1;  Z_77 : 1  TRUE 0           0      \n",
       "   n.sub\n",
       "1  481  \n",
       "2  487  \n",
       "3  511  \n",
       "4  521  \n",
       "5  492  \n",
       "6  522  \n",
       "7  473  \n",
       "8  513  \n",
       "9  472  \n",
       "10 489  \n",
       "11 496  \n",
       "12 543  \n",
       "13 500  \n",
       "14 474  \n",
       "15 511  \n",
       "16 515  \n",
       "17 490  \n",
       "18 472  \n",
       "19 512  \n",
       "20 526  \n",
       "21 535  \n",
       "22 493  \n",
       "23 479  \n",
       "24 493  \n",
       "25 513  \n",
       "26 489  \n",
       "27 501  \n",
       "28 497  \n",
       "29 499  \n",
       "30 497  \n",
       "⋮  ⋮    \n",
       "49  522 \n",
       "50  491 \n",
       "51  492 \n",
       "52  495 \n",
       "53  513 \n",
       "54  483 \n",
       "55  501 \n",
       "56  503 \n",
       "57  464 \n",
       "58  498 \n",
       "59  564 \n",
       "60  474 \n",
       "61 1000 \n",
       "62 1000 \n",
       "63  503 \n",
       "64  524 \n",
       "65  459 \n",
       "66  514 \n",
       "67  485 \n",
       "68  476 \n",
       "69  507 \n",
       "70  532 \n",
       "71  499 \n",
       "72  501 \n",
       "73  497 \n",
       "74  503 \n",
       "75  473 \n",
       "76  495 \n",
       "77  529 \n",
       "78  503 "
      ]
     },
     "metadata": {},
     "output_type": "display_data"
    }
   ],
   "source": [
    "hypotheses.skf"
   ]
  }
 ],
 "metadata": {
  "kernelspec": {
   "display_name": "R",
   "language": "R",
   "name": "ir"
  },
  "language_info": {
   "codemirror_mode": "r",
   "file_extension": ".r",
   "mimetype": "text/x-r-source",
   "name": "R",
   "pygments_lexer": "r",
   "version": "4.0.3"
  }
 },
 "nbformat": 4,
 "nbformat_minor": 5
}
