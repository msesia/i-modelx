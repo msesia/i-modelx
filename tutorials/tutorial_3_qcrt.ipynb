{
 "cells": [
  {
   "cell_type": "markdown",
   "id": "47553757",
   "metadata": {},
   "source": [
    "# Tutorial 3:  Basic Usage of the Quantile Conditional Randomization Test\n",
    "\n",
    "This tutorial demonstrates a basic usage example of the Quantile Conditional Randomization Test (QCRT) to estimate quantiles of individual effects in a partially linear model. "
   ]
  },
  {
   "cell_type": "code",
   "execution_count": 1,
   "id": "c4735ef6",
   "metadata": {},
   "outputs": [],
   "source": [
    "set.seed(2022)"
   ]
  },
  {
   "cell_type": "markdown",
   "id": "02e77883",
   "metadata": {},
   "source": [
    "## Load a toy example data set"
   ]
  },
  {
   "cell_type": "code",
   "execution_count": null,
   "id": "68f0e4f8",
   "metadata": {},
   "outputs": [],
   "source": [
    "suppressMessages(library(tidyverse))\n",
    "source(\"../i-modelx/qcrt.R\")\n",
    "\n",
    "# Load the simulated data set\n",
    "ifile <- \"data/data_n2000_p20_a400-0_i2_delta5_linear_glmnet_b1.txt\"\n",
    "data <- read_delim(ifile, delim=\" \", col_types=cols())\n",
    "X <- select(data, starts_with(\"X_\")) %>% data.matrix()\n",
    "Y <- select(data, starts_with(\"Y\")) %>% data.matrix() %>% as.numeric()\n",
    "Z <- select(data, starts_with(\"Z_\")) %>% data.matrix()\n",
    "\n",
    "# Select one explanatory variable of interest\n",
    "j <- 1\n",
    "\n",
    "# Load the ground-truth individual treatment effects\n",
    "ifile <- \"data/ite_n2000_p20_a400-0_i2_delta5_linear_glmnet_b1.txt\"\n",
    "ite.data <- read_delim(ifile, delim=\" \", col_types=cols()) %>% data.matrix()\n",
    "ite <- ite.data\n",
    "\n",
    "# Print basic information about the data\n",
    "n <- length(Y)\n",
    "cat(sprintf(\"This data set contains %d observations of %d binary explanatory variables and %d covariates.\\n\", n, ncol(X), ncol(Z)))"
   ]
  },
  {
   "cell_type": "code",
   "execution_count": null,
   "id": "69f6868a",
   "metadata": {},
   "outputs": [],
   "source": [
    "colMeans(ite)[1:4]"
   ]
  },
  {
   "cell_type": "code",
   "execution_count": null,
   "id": "6b014101",
   "metadata": {},
   "outputs": [],
   "source": [
    "hist(Y)"
   ]
  },
  {
   "cell_type": "markdown",
   "id": "9cb57007",
   "metadata": {},
   "source": [
    "## Step 1: Compute the propensity scores based on the true P(X=1|Z)"
   ]
  },
  {
   "cell_type": "code",
   "execution_count": null,
   "id": "fa7ab3e2",
   "metadata": {},
   "outputs": [],
   "source": [
    "# For this data set, the propensity scores are a function of Z as follows\n",
    "compute_propensity_score <- function(Z, j) {\n",
    "    n <- nrow(Z)\n",
    "    prop_score = Z[,j]\n",
    "    return(prop_score)\n",
    "}\n",
    "\n",
    "propensity_scores = compute_propensity_score(Z,j)\n",
    "hist(propensity_scores)"
   ]
  },
  {
   "cell_type": "markdown",
   "id": "43a42370",
   "metadata": {},
   "source": [
    "## Step 2: Define the hypothesis to be tested\n",
    "\n",
    "We will test whether the 90% largest individual effect is smaller than -1."
   ]
  },
  {
   "cell_type": "code",
   "execution_count": null,
   "id": "bbb88b14",
   "metadata": {},
   "outputs": [],
   "source": [
    "k <- round(0.9*n)   # Largest 90% quantile of individual effects\n",
    "delta <- -1         # Constant threshold\n",
    "tail <- \"right\"     # Right-tailed test\n",
    "\n",
    "hyp.check = check_hypothesis(t(ite), j, k, delta, tail, verbose=TRUE)"
   ]
  },
  {
   "cell_type": "markdown",
   "id": "f291a3a9",
   "metadata": {},
   "source": [
    "## Step 3: Compute a QCRT p-value"
   ]
  },
  {
   "cell_type": "code",
   "execution_count": null,
   "id": "7ea02121",
   "metadata": {},
   "outputs": [],
   "source": [
    "X.all <- cbind(X, Z)\n",
    "compute_pval(X.all, Y, j, propensity_scores, k, delta, multivariate=TRUE, tail=tail, reference=\"auto\", K=1000)"
   ]
  }
 ],
 "metadata": {
  "kernelspec": {
   "display_name": "R",
   "language": "R",
   "name": "ir"
  },
  "language_info": {
   "codemirror_mode": "r",
   "file_extension": ".r",
   "mimetype": "text/x-r-source",
   "name": "R",
   "pygments_lexer": "r",
   "version": "4.0.3"
  }
 },
 "nbformat": 4,
 "nbformat_minor": 5
}
